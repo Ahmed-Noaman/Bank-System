{
 "cells": [
  {
   "cell_type": "markdown",
   "metadata": {},
   "source": [
    "# Banking System using OOP \n",
    "## - parent Class: User \n",
    "### Holds details about an user \n",
    "### has a function to show user details \n",
    "\n",
    "## - Child Class: Bank \n",
    "### Stores details about the accound balance\n",
    "### Stores details about the amount \n",
    "### Allows for deposits, withdraw, view_balance \n"
   ]
  },
  {
   "cell_type": "code",
   "execution_count": 1,
   "metadata": {},
   "outputs": [],
   "source": [
    "list1 = []"
   ]
  },
  {
   "cell_type": "code",
   "execution_count": 2,
   "metadata": {},
   "outputs": [],
   "source": [
    "#Parent Class \n",
    "class User ():\n",
    "    def __init__(self, name,age,gender):\n",
    "        self.name = name \n",
    "        self.age= age \n",
    "        self.gender=gender \n",
    "\n",
    "    \n",
    "    def show_details(self):\n",
    "        print ('User Details') \n",
    "        print (\"Name:\", self.name)\n",
    "        print (\"Age: \", self.age) \n",
    "        print (\"Gender: \" , self.gender)\n",
    "\n",
    "        \n",
    "#user_1 = User('Mohamed',25,'Male')\n"
   ]
  },
  {
   "cell_type": "code",
   "execution_count": 3,
   "metadata": {},
   "outputs": [],
   "source": [
    "\n",
    "## - Child Class: Bank \n",
    "### Stores details about the accound balance\n",
    "### Stores details about the amount \n",
    "### Allows for deposits, withdraw, view_balance \n",
    "class Bank(User):\n",
    "    def __init__(self,name,age,gender):\n",
    "        User.__init__(self,name,age,gender)\n",
    "        self.balance=0 \n",
    "    \n",
    "    def deposit(self,amount):\n",
    "        self.amount = amount \n",
    "        self.balance = self.balance + self.amount \n",
    "        print (\"Account Balance has been updated: $\" , self.balance)\n",
    "    \n",
    "    def withdraw (self,amount):\n",
    "        self.amount = amount \n",
    "        if self.balance < amount :\n",
    "            print (\"Insufficient Funds: Balance Availble = \" , self.balance)\n",
    "        else:\n",
    "            self.balance -= self.amount \n",
    "            print (\"Operation Done succsessfuly\")\n",
    "            print (\"Balance has been updated \" , self.balance)\n",
    "        \n",
    "    def  view_balance (self):\n",
    "        print (\"Your current Balance now is \" , self.balance)\n",
    "        \n",
    "        \n",
    "    \n",
    "     \n",
    "        \n",
    "#user_2 = Bank ('Mohamed',25,'Male')\n",
    "#user_2.show_details()\n",
    "#user_2.deposit(100) \n",
    "#user_2.withdraw(100)"
   ]
  },
  {
   "cell_type": "code",
   "execution_count": 4,
   "metadata": {},
   "outputs": [],
   "source": [
    "def ask_name():\n",
    "    while True:\n",
    "        name = input(\"What is your name?\")\n",
    "        if (name.isalpha() or ' ' in name):\n",
    "            return name\n",
    "        else:\n",
    "            print(\"Please use only letters and space, try again\")\n",
    "            \n",
    "\n",
    "         \n",
    "    "
   ]
  },
  {
   "cell_type": "code",
   "execution_count": 5,
   "metadata": {},
   "outputs": [],
   "source": [
    "def ask_age():\n",
    "    try:\n",
    "        \n",
    "        num = int(input('Enter your age: '))\n",
    "        return num\n",
    "    \n",
    "    except ValueError:\n",
    "        print('this is value error')\n",
    "        return ask_age()\n"
   ]
  },
  {
   "cell_type": "code",
   "execution_count": 6,
   "metadata": {
    "scrolled": true
   },
   "outputs": [],
   "source": [
    "def ask_gender():\n",
    "    try:\n",
    "        \n",
    "        while True:\n",
    "            global g\n",
    "            g = int(input('Enter number to select your gender 1-Male 2-Female :'))\n",
    "            if g == 1:\n",
    "                g = 'male'\n",
    "                break\n",
    "            elif g == 2:\n",
    "                g = 'female'\n",
    "                break\n",
    "            if g != 1 or 2:\n",
    "                print('Number is error')\n",
    "                continue\n",
    "                \n",
    "        \n",
    "    \n",
    "    except ValueError:\n",
    "        print('there is Value error')\n",
    "        ask_gender()\n",
    "        \n",
    "    return g\n"
   ]
  },
  {
   "cell_type": "code",
   "execution_count": 7,
   "metadata": {},
   "outputs": [],
   "source": [
    "\n",
    "def ask_username():\n",
    "    key = input('write new username:')\n",
    "    value = input('passward: ')\n",
    "\n",
    "    dic = {key:value}\n",
    "    list1.append(dic)\n",
    "    "
   ]
  },
  {
   "cell_type": "code",
   "execution_count": 8,
   "metadata": {},
   "outputs": [],
   "source": [
    "def home():\n",
    "    b = Bank(name,age,gender)\n",
    "    u = User(name,age,gender)\n",
    "    try:\n",
    "        while True:\n",
    "\n",
    "            print('\\n----------------------------------')\n",
    "            print('1 to show all details account')\n",
    "            print('2 to show account balance')\n",
    "            print('3 to withdraw ')\n",
    "            print('4 to deposit ')\n",
    "            print('5 to exit')\n",
    "            print('0 to exit from the system ')\n",
    "\n",
    "            command = int(input())\n",
    "\n",
    "            if command == 1:\n",
    "\n",
    "                u.show_details()\n",
    "                continue\n",
    "\n",
    "            elif command == 2:\n",
    "                b.view_balance()\n",
    "                continue\n",
    "\n",
    "\n",
    "            elif command == 3:\n",
    "                withdraw = int(input('How much is the withdrawal amount? : '))\n",
    "                b.withdraw(withdraw)\n",
    "                continue\n",
    "\n",
    "            elif command == 4:\n",
    "\n",
    "                deposit = int(input('How much is the deposit ? : '))\n",
    "                b.deposit(deposit)\n",
    "                continue\n",
    "\n",
    "            elif command == 5:\n",
    "                return Main()\n",
    "\n",
    "            elif command == 0:\n",
    "                break\n",
    "\n",
    "            else :\n",
    "                print('Number is false')\n",
    "                continue\n",
    "    except ValueError:\n",
    "        print('there is value error')\n",
    "        home()\n",
    "\n"
   ]
  },
  {
   "cell_type": "code",
   "execution_count": 9,
   "metadata": {},
   "outputs": [],
   "source": [
    "def Main():\n",
    "    \n",
    "\n",
    "\n",
    "    print('=========================')\n",
    "    print('1 created new account')\n",
    "    print('2 I have already account')\n",
    "    try:\n",
    "        start = int(input())\n",
    "    except ValueError:\n",
    "        print('there is value error')\n",
    "        Main()\n",
    "\n",
    "    if start == 1:\n",
    "        global name\n",
    "        global age\n",
    "        global gender\n",
    "        name = ask_name()\n",
    "        age = ask_age()\n",
    "        gender = ask_gender()\n",
    "        ID_pas = ask_username()\n",
    "        print('account created successfuly!')\n",
    "        return home()\n",
    "\n",
    "    elif start == 2:\n",
    "        user = input('username: ')\n",
    "        pas= input('passward: ')\n",
    "\n",
    "        dic = {user:pas}\n",
    "        if dic in list1:\n",
    "            return home()\n",
    "\n",
    "        else:\n",
    "            print('username or passward is wrong')\n",
    "            Main()\n",
    "\n",
    "\n",
    "\n",
    "\n",
    "    else:\n",
    "        print('number is false')\n"
   ]
  },
  {
   "cell_type": "code",
   "execution_count": 10,
   "metadata": {
    "scrolled": true
   },
   "outputs": [
    {
     "name": "stdout",
     "output_type": "stream",
     "text": [
      "=========================\n",
      "1 created new account\n",
      "2 I have already account\n",
      "1\n",
      "What is your name?Ahmed Noaman\n",
      "Enter your age: 26\n",
      "Enter number to select your gender 1-Male 2-Female :1\n",
      "write new username:ANoaman\n",
      "passward: Ahmed.Noaman\n",
      "account created successfuly!\n",
      "\n",
      "----------------------------------\n",
      "1 to show all details account\n",
      "2 to show account balance\n",
      "3 to withdraw \n",
      "4 to deposit \n",
      "5 to exit\n",
      "0 to exit from the system \n",
      "4\n",
      "How much is the deposit ? : 1000000\n",
      "Account Balance has been updated: $ 1000000\n",
      "\n",
      "----------------------------------\n",
      "1 to show all details account\n",
      "2 to show account balance\n",
      "3 to withdraw \n",
      "4 to deposit \n",
      "5 to exit\n",
      "0 to exit from the system \n",
      "0\n"
     ]
    }
   ],
   "source": [
    "Main()"
   ]
  },
  {
   "cell_type": "code",
   "execution_count": 11,
   "metadata": {},
   "outputs": [
    {
     "name": "stdout",
     "output_type": "stream",
     "text": [
      "[{'ANoaman': 'Ahmed.Noaman'}]\n"
     ]
    }
   ],
   "source": [
    "print(list1)"
   ]
  },
  {
   "cell_type": "code",
   "execution_count": null,
   "metadata": {},
   "outputs": [],
   "source": []
  }
 ],
 "metadata": {
  "kernelspec": {
   "display_name": "Python 3 (ipykernel)",
   "language": "python",
   "name": "python3"
  },
  "language_info": {
   "codemirror_mode": {
    "name": "ipython",
    "version": 3
   },
   "file_extension": ".py",
   "mimetype": "text/x-python",
   "name": "python",
   "nbconvert_exporter": "python",
   "pygments_lexer": "ipython3",
   "version": "3.10.2"
  }
 },
 "nbformat": 4,
 "nbformat_minor": 2
}
